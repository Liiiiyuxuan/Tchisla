{
 "cells": [
  {
   "cell_type": "code",
   "execution_count": 7,
   "metadata": {},
   "outputs": [],
   "source": [
    "import random\n",
    "import operator\n",
    "import torch\n",
    "\n",
    "import latexify\n"
   ]
  },
  {
   "cell_type": "code",
   "execution_count": 8,
   "metadata": {},
   "outputs": [],
   "source": [
    "ops = {\n",
    "    '+': operator.add,\n",
    "    '-': operator.sub,\n",
    "    '*': operator.mul,\n",
    "    '/': operator.truediv\n",
    "}\n",
    "\n",
    "def safe_div(x, y):\n",
    "    if y == 0:\n",
    "        return float('inf')\n",
    "    else:\n",
    "        return x / y\n"
   ]
  },
  {
   "cell_type": "code",
   "execution_count": 9,
   "metadata": {},
   "outputs": [],
   "source": [
    "class Individual:\n",
    "    def __init__(self, gene_length=5):\n",
    "        self.gene_length = gene_length\n",
    "        self.genes = [(random.randint(1, 5), random.choice(list(ops.keys()))) for _ in range(gene_length - 1)]\n",
    "        self.genes.append((random.randint(1, 5), ''))  # end with a number\n",
    "        self.fitness = float('inf')\n",
    "\n",
    "    def calculate_fitness(self, target):\n",
    "        result = self.genes[0][0]\n",
    "        for num, op in self.genes[1:]:\n",
    "            if op == '/':\n",
    "                result = safe_div(result, num)\n",
    "            elif op:\n",
    "                result = ops[op](result, num)\n",
    "        self.fitness = abs(target - result)\n",
    "\n",
    "    def mutate(self):\n",
    "        mutation_index = random.randint(0, self.gene_length - 1)\n",
    "        self.genes[mutation_index] = (random.randint(1, 5), self.genes[mutation_index][1])\n"
   ]
  },
  {
   "cell_type": "code",
   "execution_count": 10,
   "metadata": {},
   "outputs": [],
   "source": [
    "def crossover(parent1, parent2):\n",
    "    crossover_point = random.randint(0, len(parent1.genes) - 1)\n",
    "    child1_genes = parent1.genes[:crossover_point] + parent2.genes[crossover_point:]\n",
    "    child2_genes = parent2.genes[:crossover_point] + parent1.genes[crossover_point:]\n",
    "    return Individual(child1_genes), Individual(child2_genes)\n",
    "\n",
    "def evolve(population, target):\n",
    "    new_generation = []\n",
    "    for _ in range(len(population) // 2):\n",
    "        parent1, parent2 = random.sample(population, 2)\n",
    "        child1, child2 = crossover(parent1, parent2)\n",
    "        child1.mutate()\n",
    "        child2.mutate()\n",
    "        child1.calculate_fitness(target)\n",
    "        child2.calculate_fitness(target)\n",
    "        new_generation.extend([child1, child2])\n",
    "    return new_generation\n"
   ]
  },
  {
   "cell_type": "code",
   "execution_count": 11,
   "metadata": {},
   "outputs": [
    {
     "ename": "AttributeError",
     "evalue": "module 'latexify' has no attribute 'with_latex'",
     "output_type": "error",
     "traceback": [
      "\u001b[0;31m---------------------------------------------------------------------------\u001b[0m",
      "\u001b[0;31mAttributeError\u001b[0m                            Traceback (most recent call last)",
      "Cell \u001b[0;32mIn[11], line 1\u001b[0m\n\u001b[0;32m----> 1\u001b[0m \u001b[38;5;129m@latexify\u001b[39m\u001b[38;5;241;43m.\u001b[39;49m\u001b[43mwith_latex\u001b[49m\n\u001b[1;32m      2\u001b[0m \u001b[38;5;28;01mdef\u001b[39;00m\u001b[38;5;250m \u001b[39m\u001b[38;5;21mevaluate_expression\u001b[39m(expr):\n\u001b[1;32m      3\u001b[0m \u001b[38;5;250m    \u001b[39m\u001b[38;5;124;03m\"\"\"\u001b[39;00m\n\u001b[1;32m      4\u001b[0m \u001b[38;5;124;03m    Evaluates an arithmetic expression represented as a list of (number, operator) tuples.\u001b[39;00m\n\u001b[1;32m      5\u001b[0m \u001b[38;5;124;03m    The first tuple should have an empty string as the operator.\u001b[39;00m\n\u001b[0;32m   (...)\u001b[0m\n\u001b[1;32m     14\u001b[0m \u001b[38;5;124;03m    [(5, ''), (3, '+'), (2, '*'), (0, '/'), (4, '-')]\u001b[39;00m\n\u001b[1;32m     15\u001b[0m \u001b[38;5;124;03m    \"\"\"\u001b[39;00m\n\u001b[1;32m     16\u001b[0m     result \u001b[38;5;241m=\u001b[39m expr[\u001b[38;5;241m0\u001b[39m][\u001b[38;5;241m0\u001b[39m]  \u001b[38;5;66;03m# Initialize result with the first number\u001b[39;00m\n",
      "\u001b[0;31mAttributeError\u001b[0m: module 'latexify' has no attribute 'with_latex'"
     ]
    }
   ],
   "source": [
    "@latexify.with_latex\n",
    "def evaluate_expression(expr):\n",
    "    \"\"\"\n",
    "    Evaluates an arithmetic expression represented as a list of (number, operator) tuples.\n",
    "    The first tuple should have an empty string as the operator.\n",
    "    \n",
    "    Args:\n",
    "        expr (list): List of tuples (number, operation) to be evaluated.\n",
    "\n",
    "    Returns:\n",
    "        LaTeX representation of step-by-step evaluation.\n",
    "\n",
    "    Example input:\n",
    "    [(5, ''), (3, '+'), (2, '*'), (0, '/'), (4, '-')]\n",
    "    \"\"\"\n",
    "    result = expr[0][0]  # Initialize result with the first number\n",
    "    for num, op in expr[1:]:  # Iterate over the rest of the tuples\n",
    "        if op:  # Ensure there is an operation to perform\n",
    "            func = ops[op]  # Get the operator function from the dictionary\n",
    "            if op == '/':  # Check if the operation is division\n",
    "                result = safe_div(result, num)  # Perform safe division\n",
    "            else:\n",
    "                result = func(result, num)  # Perform the operation\n",
    "    return result\n",
    "\n",
    "# Example usage to generate LaTeX\n",
    "expression = [(5, ''), (3, '+'), (2, '*'), (0, '/'), (4, '-')]\n",
    "latex_code = evaluate_expression(expression)\n",
    "print(latex_code)\n",
    "\n"
   ]
  }
 ],
 "metadata": {
  "kernelspec": {
   "display_name": "Python 3",
   "language": "python",
   "name": "python3"
  },
  "language_info": {
   "codemirror_mode": {
    "name": "ipython",
    "version": 3
   },
   "file_extension": ".py",
   "mimetype": "text/x-python",
   "name": "python",
   "nbconvert_exporter": "python",
   "pygments_lexer": "ipython3",
   "version": "3.13.0"
  }
 },
 "nbformat": 4,
 "nbformat_minor": 2
}
